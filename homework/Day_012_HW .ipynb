{
 "cells": [
  {
   "cell_type": "code",
   "execution_count": 15,
   "metadata": {},
   "outputs": [],
   "source": [
    "import os \n",
    "import pandas as pd \n",
    "import numpy as np \n",
    "import matplotlib.pyplot as plt\n",
    "\n",
    "ages = pd.DataFrame({\"age\":[18,22,25,27,7,21,23,37,30,61,45,41,9,18,80,100]})#新增一個age數列"
   ]
  },
  {
   "cell_type": "code",
   "execution_count": 14,
   "metadata": {},
   "outputs": [
    {
     "name": "stdout",
     "output_type": "stream",
     "text": [
      "(20, 30]     6\n",
      "(50, 100]    3\n",
      "(40, 50]     2\n",
      "(10, 20]     2\n",
      "(0, 10]      2\n",
      "(30, 40]     1\n",
      "Name: customized_age_grp, dtype: int64\n"
     ]
    }
   ],
   "source": [
    "bins =[0,10,20,30,40,50,100]\n",
    "ages[\"customized_age_grp\"]=pd.cut(ages[\"age\"],bins)#將age分成bins的分布\n",
    "print(ages[\"customized_age_grp\"].value_counts())#show出每個區間有幾個資料"
   ]
  },
  {
   "cell_type": "code",
   "execution_count": null,
   "metadata": {},
   "outputs": [],
   "source": []
  }
 ],
 "metadata": {
  "kernelspec": {
   "display_name": "Python 3",
   "language": "python",
   "name": "python3"
  },
  "language_info": {
   "codemirror_mode": {
    "name": "ipython",
    "version": 3
   },
   "file_extension": ".py",
   "mimetype": "text/x-python",
   "name": "python",
   "nbconvert_exporter": "python",
   "pygments_lexer": "ipython3",
   "version": "3.6.4"
  }
 },
 "nbformat": 4,
 "nbformat_minor": 2
}
